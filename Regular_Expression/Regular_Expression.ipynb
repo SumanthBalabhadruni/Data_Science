{
  "nbformat": 4,
  "nbformat_minor": 0,
  "metadata": {
    "colab": {
      "name": "Regular Expression.ipynb",
      "provenance": [],
      "toc_visible": true
    },
    "kernelspec": {
      "name": "python3",
      "display_name": "Python 3"
    },
    "language_info": {
      "name": "python"
    }
  },
  "cells": [
    {
      "cell_type": "markdown",
      "metadata": {
        "id": "RCTQ6Gl46dA2"
      },
      "source": [
        "# REGEX\n",
        "\n",
        "A Regular Expression specifies a set of strings that matches it.We import the regex library as \n",
        "\n",
        "                   \n",
        "                             import re"
      ]
    },
    {
      "cell_type": "markdown",
      "metadata": {
        "id": "qpKPuyn26ZNC"
      },
      "source": [
        "### Meta characters \n",
        "       This are the patterns used to match Character Combination in the strings.\n",
        "                 [],.,\\,^,$,*,+,{},|,(),?\n",
        "\n",
        "1) [] ---> A set of characters\n",
        "\n",
        "2) .  ---> Any character (except new line character)\n",
        "\n",
        "3) \\  ---> Signals a Special Sequence(Can also be used to escape special characters)\n",
        "\n",
        "4) ^  ---> Starts with\n",
        "\n",
        "5) $  ---> Ends with\n",
        "\n",
        "6)  * ---> Zero or more Occurances\n",
        "\n",
        "7)  + ---> one or more occurances\n",
        "\n",
        "8) {} ---> exactly the specified no of occurances\n",
        "\n",
        "9) () ---> Capture and Group\n",
        "\n",
        "10) | ---> Either or Start of Alternative brach\n",
        "\n",
        "\n",
        "\n"
      ]
    },
    {
      "cell_type": "markdown",
      "metadata": {
        "id": "VPiRCUK5-ZSR"
      },
      "source": [
        "## Character Classes\n",
        "         It is a set of Characters kept in Square Bracket.The regex engine matches only one out of several characters in the character set.\n",
        "\n",
        "\n",
        "\n",
        "1) [a-z]         ---> Matches a Single Alphabet between 'a' and 'z'(which are in lower cases)\n",
        "\n",
        "2) [A-Z]         ---> Matches a Single Alphabet between 'A' and 'Z'(which are in upper cases)\n",
        "\n",
        "3) [0-9]         ---> Matches a Single Digit between '0' and '9'\n",
        "\n",
        "4) [a-zA-Z0-9_]  ---> Matches only Alphanumerical Characters\n",
        "\n",
        "5) [^a-zA-Z0-9_] ---> Matches all characters except Alphanumeric characters\n"
      ]
    },
    {
      "cell_type": "markdown",
      "metadata": {
        "id": "Ah48z0oOHDRb"
      },
      "source": [
        "##User Defined Classes\n",
        "\n",
        "\n",
        "1) \\A ---> Returns a match if the specified characters are at the beginning of the string\n",
        "\n",
        "2) \\b ---> Returns a match if the specified characters are at the beginning or at the end of the string\n",
        "\n",
        "3) \\B ---> Returns a match if the specified characters are present but not at the beginning/Ending of the string\n",
        "\n",
        "4) \\d ---> Returns a match where the string Contains digits\n",
        "\n",
        "5) \\D ---> Returns a match where the string doesn't contain digits\n",
        "\n",
        "6) \\s ---> Returns a match where the string contains white space character\n",
        "\n",
        "7) \\S ---> Returns a match where the string doesn't contains white space character\n",
        "\n",
        "8) \\w ---> Returns a match where the string contains any word characters, digits and Underscore(_)\n",
        "\n",
        "9) \\W ---> Returns a match where the string doesn't contains any word characters, digits and underscore(_)\n",
        "\n",
        "10) \\z --> Returns a match if the specified characters are at the end of the string\n",
        "\n",
        "11) \\n --> Returns a match of a line-feed(new line) character"
      ]
    },
    {
      "cell_type": "markdown",
      "metadata": {
        "id": "WNnzoAzu3jN1"
      },
      "source": [
        "# **re.finditer()** \n",
        "\n",
        "\n",
        "\n"
      ]
    },
    {
      "cell_type": "code",
      "metadata": {
        "id": "hJ9JEafucFvl"
      },
      "source": [
        "import re"
      ],
      "execution_count": 2,
      "outputs": []
    },
    {
      "cell_type": "code",
      "metadata": {
        "colab": {
          "base_uri": "https://localhost:8080/"
        },
        "id": "CViRPmJ1cTAM",
        "outputId": "bca481f1-4dd8-4d84-e566-3f940ad12001"
      },
      "source": [
        "match= re.finditer('a+','aaaaaaaaabbbbbaaaajklaaaa')\n",
        "for i in match:\n",
        "  print(i)\n",
        "  print(i.group(), i.start(), i.end())\n",
        "  print('\\t')"
      ],
      "execution_count": 3,
      "outputs": [
        {
          "output_type": "stream",
          "text": [
            "<re.Match object; span=(0, 9), match='aaaaaaaaa'>\n",
            "aaaaaaaaa 0 9\n",
            "\t\n",
            "<re.Match object; span=(14, 18), match='aaaa'>\n",
            "aaaa 14 18\n",
            "\t\n",
            "<re.Match object; span=(21, 25), match='aaaa'>\n",
            "aaaa 21 25\n",
            "\t\n"
          ],
          "name": "stdout"
        }
      ]
    },
    {
      "cell_type": "code",
      "metadata": {
        "colab": {
          "base_uri": "https://localhost:8080/"
        },
        "id": "pHeZ6_7KfKTv",
        "outputId": "9bc90c67-0769-4458-b488-4063d7ee5dd1"
      },
      "source": [
        "t=[1,2,3,4, True]\n",
        "print(type(t))\n",
        "for i in t:\n",
        "  print(type(i))"
      ],
      "execution_count": 4,
      "outputs": [
        {
          "output_type": "stream",
          "text": [
            "<class 'list'>\n",
            "<class 'int'>\n",
            "<class 'int'>\n",
            "<class 'int'>\n",
            "<class 'int'>\n",
            "<class 'bool'>\n"
          ],
          "name": "stdout"
        }
      ]
    },
    {
      "cell_type": "code",
      "metadata": {
        "colab": {
          "base_uri": "https://localhost:8080/"
        },
        "id": "4cmVkMfXdDRY",
        "outputId": "18e5a33c-0336-4483-d7a5-5b2752bbde26"
      },
      "source": [
        "matcherrr=re.finditer('ab','abaabaaba')\n",
        "count=0\n",
        "print(type(matcherrr))\n",
        "print('\\n')\n",
        "for i in matcherrr:\n",
        "  print('match is at:{}, ends at:{}, pattern:{}'.format(i.start(),i.end(),i.group()))\n",
        "  print(type(i))\n",
        "  count+=1\n",
        "print('\\n')\n",
        "print('the no of matches is:', count)"
      ],
      "execution_count": 5,
      "outputs": [
        {
          "output_type": "stream",
          "text": [
            "<class 'callable_iterator'>\n",
            "\n",
            "\n",
            "match is at:0, ends at:2, pattern:ab\n",
            "<class 're.Match'>\n",
            "match is at:3, ends at:5, pattern:ab\n",
            "<class 're.Match'>\n",
            "match is at:6, ends at:8, pattern:ab\n",
            "<class 're.Match'>\n",
            "\n",
            "\n",
            "the no of matches is: 3\n"
          ],
          "name": "stdout"
        }
      ]
    },
    {
      "cell_type": "code",
      "metadata": {
        "colab": {
          "base_uri": "https://localhost:8080/"
        },
        "id": "Sfx5rUpypEfC",
        "outputId": "2ffe77ad-bfea-4ec8-964a-7abbada43e05"
      },
      "source": [
        "#[a-z] ---> Matches only lower case alphabets(a-z)\n",
        "\n",
        "matcher=re.finditer('[a-z]','ab_ef gh@ij#kl124kl 35')\n",
        "count=0\n",
        "for i in matcher:\n",
        "  print('starts at:{}, ends at:{}, pattern:{}'.format(i.start(),i.end(),i.group()))\n",
        "  count+=1\n",
        "print('\\t')\n",
        "print('the total no of matches is:',count)"
      ],
      "execution_count": 6,
      "outputs": [
        {
          "output_type": "stream",
          "text": [
            "starts at:0, ends at:1, pattern:a\n",
            "starts at:1, ends at:2, pattern:b\n",
            "starts at:3, ends at:4, pattern:e\n",
            "starts at:4, ends at:5, pattern:f\n",
            "starts at:6, ends at:7, pattern:g\n",
            "starts at:7, ends at:8, pattern:h\n",
            "starts at:9, ends at:10, pattern:i\n",
            "starts at:10, ends at:11, pattern:j\n",
            "starts at:12, ends at:13, pattern:k\n",
            "starts at:13, ends at:14, pattern:l\n",
            "starts at:17, ends at:18, pattern:k\n",
            "starts at:18, ends at:19, pattern:l\n",
            "\t\n",
            "the total no of matches is: 12\n"
          ],
          "name": "stdout"
        }
      ]
    },
    {
      "cell_type": "code",
      "metadata": {
        "colab": {
          "base_uri": "https://localhost:8080/"
        },
        "id": "d-MDK-LDvaFm",
        "outputId": "de09b65b-f994-4bc1-f002-5e22dce22b3d"
      },
      "source": [
        "#[^a-z] ---> Matches all characters except Lower case Alphabets(a-z)\n",
        "\n",
        "matcher=re.finditer('[^a-z]','ab_ef gh@ij#kl124kl 35')\n",
        "count=0\n",
        "for i in matcher:\n",
        "  print('starts at:{}, ends at:{}, pattern:{}'.format(i.start(),i.end(),i.group()))\n",
        "  count+=1\n",
        "print('\\t')\n",
        "print('the total no of matches is:',count)"
      ],
      "execution_count": 7,
      "outputs": [
        {
          "output_type": "stream",
          "text": [
            "starts at:2, ends at:3, pattern:_\n",
            "starts at:5, ends at:6, pattern: \n",
            "starts at:8, ends at:9, pattern:@\n",
            "starts at:11, ends at:12, pattern:#\n",
            "starts at:14, ends at:15, pattern:1\n",
            "starts at:15, ends at:16, pattern:2\n",
            "starts at:16, ends at:17, pattern:4\n",
            "starts at:19, ends at:20, pattern: \n",
            "starts at:20, ends at:21, pattern:3\n",
            "starts at:21, ends at:22, pattern:5\n",
            "\t\n",
            "the total no of matches is: 10\n"
          ],
          "name": "stdout"
        }
      ]
    },
    {
      "cell_type": "code",
      "metadata": {
        "colab": {
          "base_uri": "https://localhost:8080/"
        },
        "id": "wJ6oqaQJv5fJ",
        "outputId": "49a341c0-2e34-42ad-cd6a-f9beba19be27"
      },
      "source": [
        "#\\s ---> Matches only Spaces\n",
        "\n",
        "matcher=re.finditer('\\s','ab_ef gh@ij#kl124kl 35')\n",
        "count=0\n",
        "for i in matcher:\n",
        "  print('starts at:{}, ends at:{}, pattern:{}'.format(i.start(),i.end(),i.group()))\n",
        "  count+=1\n",
        "print('\\t')\n",
        "print('the total no of matches is:',count)"
      ],
      "execution_count": 8,
      "outputs": [
        {
          "output_type": "stream",
          "text": [
            "starts at:5, ends at:6, pattern: \n",
            "starts at:19, ends at:20, pattern: \n",
            "\t\n",
            "the total no of matches is: 2\n"
          ],
          "name": "stdout"
        }
      ]
    },
    {
      "cell_type": "code",
      "metadata": {
        "colab": {
          "base_uri": "https://localhost:8080/"
        },
        "id": "s_nNg4Z3xD-s",
        "outputId": "4d46e351-9e83-48a0-ce81-9b860d8481b9"
      },
      "source": [
        "#\\S ---> It matches with all characters except Spaces\n",
        "\n",
        "matcher=re.finditer('\\S','ab_ef gh@ij#kl124kl 35')\n",
        "count=0\n",
        "for i in matcher:\n",
        "  print('starts at:{}, ends at:{}, pattern:{}'.format(i.start(),i.end(),i.group()))\n",
        "  count+=1\n",
        "print('\\t')\n",
        "print('the total no of matches is:',count)"
      ],
      "execution_count": 9,
      "outputs": [
        {
          "output_type": "stream",
          "text": [
            "starts at:0, ends at:1, pattern:a\n",
            "starts at:1, ends at:2, pattern:b\n",
            "starts at:2, ends at:3, pattern:_\n",
            "starts at:3, ends at:4, pattern:e\n",
            "starts at:4, ends at:5, pattern:f\n",
            "starts at:6, ends at:7, pattern:g\n",
            "starts at:7, ends at:8, pattern:h\n",
            "starts at:8, ends at:9, pattern:@\n",
            "starts at:9, ends at:10, pattern:i\n",
            "starts at:10, ends at:11, pattern:j\n",
            "starts at:11, ends at:12, pattern:#\n",
            "starts at:12, ends at:13, pattern:k\n",
            "starts at:13, ends at:14, pattern:l\n",
            "starts at:14, ends at:15, pattern:1\n",
            "starts at:15, ends at:16, pattern:2\n",
            "starts at:16, ends at:17, pattern:4\n",
            "starts at:17, ends at:18, pattern:k\n",
            "starts at:18, ends at:19, pattern:l\n",
            "starts at:20, ends at:21, pattern:3\n",
            "starts at:21, ends at:22, pattern:5\n",
            "\t\n",
            "the total no of matches is: 20\n"
          ],
          "name": "stdout"
        }
      ]
    },
    {
      "cell_type": "code",
      "metadata": {
        "colab": {
          "base_uri": "https://localhost:8080/"
        },
        "id": "MESFKxMAxIUN",
        "outputId": "c5f862c7-7efe-4b07-b508-8d51cf930a15"
      },
      "source": [
        "#\\w ---> Matches with Alphanumeric values(A-Z,a-z,0-9,_)\n",
        "\n",
        "matcher=re.finditer('\\w','ab_ef gh@ij#kl124kl 35')\n",
        "count=0\n",
        "for i in matcher:\n",
        "  print('starts at:{}, ends at:{}, pattern:{}'.format(i.start(),i.end(),i.group()))\n",
        "  count+=1\n",
        "print('\\t')\n",
        "print('the total no of matches is:',count)"
      ],
      "execution_count": 10,
      "outputs": [
        {
          "output_type": "stream",
          "text": [
            "starts at:0, ends at:1, pattern:a\n",
            "starts at:1, ends at:2, pattern:b\n",
            "starts at:2, ends at:3, pattern:_\n",
            "starts at:3, ends at:4, pattern:e\n",
            "starts at:4, ends at:5, pattern:f\n",
            "starts at:6, ends at:7, pattern:g\n",
            "starts at:7, ends at:8, pattern:h\n",
            "starts at:9, ends at:10, pattern:i\n",
            "starts at:10, ends at:11, pattern:j\n",
            "starts at:12, ends at:13, pattern:k\n",
            "starts at:13, ends at:14, pattern:l\n",
            "starts at:14, ends at:15, pattern:1\n",
            "starts at:15, ends at:16, pattern:2\n",
            "starts at:16, ends at:17, pattern:4\n",
            "starts at:17, ends at:18, pattern:k\n",
            "starts at:18, ends at:19, pattern:l\n",
            "starts at:20, ends at:21, pattern:3\n",
            "starts at:21, ends at:22, pattern:5\n",
            "\t\n",
            "the total no of matches is: 18\n"
          ],
          "name": "stdout"
        }
      ]
    },
    {
      "cell_type": "code",
      "metadata": {
        "colab": {
          "base_uri": "https://localhost:8080/"
        },
        "id": "kZW1cGyDxW5H",
        "outputId": "cdc70939-dde7-4229-a847-3e341ae6634d"
      },
      "source": [
        "#\\W ---> Matches with all characters except Alphanumeric values(A-Z,a-z,0-9,_)\n",
        "\n",
        "matcher=re.finditer('\\W','ab_ef gh@ij#kl124kl 35')\n",
        "count=0\n",
        "for i in matcher:\n",
        "  print('starts at:{}, ends at:{}, pattern:{}'.format(i.start(),i.end(),i.group()))\n",
        "  count+=1\n",
        "print('\\t')\n",
        "print('the total no of matches is:',count)"
      ],
      "execution_count": 11,
      "outputs": [
        {
          "output_type": "stream",
          "text": [
            "starts at:5, ends at:6, pattern: \n",
            "starts at:8, ends at:9, pattern:@\n",
            "starts at:11, ends at:12, pattern:#\n",
            "starts at:19, ends at:20, pattern: \n",
            "\t\n",
            "the total no of matches is: 4\n"
          ],
          "name": "stdout"
        }
      ]
    },
    {
      "cell_type": "code",
      "metadata": {
        "colab": {
          "base_uri": "https://localhost:8080/"
        },
        "id": "5dEgWm4NzXP6",
        "outputId": "ec7f93c1-3aa4-42b8-a17e-0efd59cccaef"
      },
      "source": [
        "# ^a ---> string starts with 'a'\n",
        "\n",
        "matcher=re.finditer('^a','ab_efl gh@i#l4l')\n",
        "count=0\n",
        "for i in matcher:\n",
        "  print('starts at:{}, ends at:{}, pattern:{}'.format(i.start(),i.end(),i.group()))\n",
        "  count+=1\n",
        "print('\\t')\n",
        "print('the total no of matches is:',count)"
      ],
      "execution_count": 12,
      "outputs": [
        {
          "output_type": "stream",
          "text": [
            "starts at:0, ends at:1, pattern:a\n",
            "\t\n",
            "the total no of matches is: 1\n"
          ],
          "name": "stdout"
        }
      ]
    },
    {
      "cell_type": "code",
      "metadata": {
        "colab": {
          "base_uri": "https://localhost:8080/"
        },
        "id": "TSha3T9gzw_k",
        "outputId": "9d401635-9939-45b4-9dd0-061cb3a9fe86"
      },
      "source": [
        "# l$ ---> string ends with 'a'\n",
        "\n",
        "matcher=re.finditer('l$','ab_efl gh@i#l4l')\n",
        "count=0\n",
        "for i in matcher:\n",
        "  print('starts at:{}, ends at:{}, pattern:{}'.format(i.start(),i.end(),i.group()))\n",
        "  count+=1\n",
        "print('\\t')\n",
        "print('the total no of matches is:',count)"
      ],
      "execution_count": 13,
      "outputs": [
        {
          "output_type": "stream",
          "text": [
            "starts at:14, ends at:15, pattern:l\n",
            "\t\n",
            "the total no of matches is: 1\n"
          ],
          "name": "stdout"
        }
      ]
    },
    {
      "cell_type": "code",
      "metadata": {
        "colab": {
          "base_uri": "https://localhost:8080/"
        },
        "id": "aT5WsE7y0Pgn",
        "outputId": "770bbec3-1dad-46f3-84cf-3c42c0ad1c3b"
      },
      "source": [
        "# a ---> Matches exactly 1 'a'\n",
        "\n",
        "matcher=re.finditer('^a','abaababa')\n",
        "count=0\n",
        "for i in matcher:\n",
        "  print('starts at:{}, ends at:{}, pattern:{}'.format(i.start(),i.end(),i.group()))\n",
        "  count+=1\n",
        "print('\\t')\n",
        "print('the total no of matches is:',count)"
      ],
      "execution_count": 14,
      "outputs": [
        {
          "output_type": "stream",
          "text": [
            "starts at:0, ends at:1, pattern:a\n",
            "\t\n",
            "the total no of matches is: 1\n"
          ],
          "name": "stdout"
        }
      ]
    },
    {
      "cell_type": "code",
      "metadata": {
        "colab": {
          "base_uri": "https://localhost:8080/"
        },
        "id": "BNmJ_gBy0tl4",
        "outputId": "5649db5b-0285-48d2-9605-4e66c1233a06"
      },
      "source": [
        "# a+ ---> Matches with 1 or more 'a'\n",
        "\n",
        "matcher=re.finditer('a+','abaababa')\n",
        "count=0\n",
        "for i in matcher:\n",
        "  print('starts at:{}, ends at:{}, pattern:{}'.format(i.start(),i.end(),i.group()))\n",
        "  count+=1\n",
        "print('\\t')\n",
        "print('the total no of matches is:',count)"
      ],
      "execution_count": 15,
      "outputs": [
        {
          "output_type": "stream",
          "text": [
            "starts at:0, ends at:1, pattern:a\n",
            "starts at:2, ends at:4, pattern:aa\n",
            "starts at:5, ends at:6, pattern:a\n",
            "starts at:7, ends at:8, pattern:a\n",
            "\t\n",
            "the total no of matches is: 4\n"
          ],
          "name": "stdout"
        }
      ]
    },
    {
      "cell_type": "code",
      "metadata": {
        "colab": {
          "base_uri": "https://localhost:8080/"
        },
        "id": "W7NFe-zl01jz",
        "outputId": "701f18c2-f6e9-4dc1-fec7-e8d83ed6ce29"
      },
      "source": [
        "# a* ---> Matches with 0 or more 'a'\n",
        "\n",
        "matcher=re.finditer('a*','abaababa')\n",
        "count=0\n",
        "for i in matcher:\n",
        "  print('starts at:{}, ends at:{}, pattern:{}'.format(i.start(),i.end(),i.group()))\n",
        "  count+=1\n",
        "print('\\t')\n",
        "print('the total no of matches is:',count)"
      ],
      "execution_count": 16,
      "outputs": [
        {
          "output_type": "stream",
          "text": [
            "starts at:0, ends at:1, pattern:a\n",
            "starts at:1, ends at:1, pattern:\n",
            "starts at:2, ends at:4, pattern:aa\n",
            "starts at:4, ends at:4, pattern:\n",
            "starts at:5, ends at:6, pattern:a\n",
            "starts at:6, ends at:6, pattern:\n",
            "starts at:7, ends at:8, pattern:a\n",
            "starts at:8, ends at:8, pattern:\n",
            "\t\n",
            "the total no of matches is: 8\n"
          ],
          "name": "stdout"
        }
      ]
    },
    {
      "cell_type": "code",
      "metadata": {
        "colab": {
          "base_uri": "https://localhost:8080/"
        },
        "id": "tP6g4W3r1bYt",
        "outputId": "aa3a645a-1741-4de8-d8bd-6118eb34c091"
      },
      "source": [
        "# a? ---> Matches exactly 0 or 1 'a'\n",
        "\n",
        "matcher=re.finditer('a?','abaababa')\n",
        "count=0\n",
        "for i in matcher:\n",
        "  print('starts at:{}, ends at:{}, pattern:{}'.format(i.start(),i.end(),i.group()))\n",
        "  count+=1\n",
        "print('\\t')\n",
        "print('the total no of matches is:',count)"
      ],
      "execution_count": 17,
      "outputs": [
        {
          "output_type": "stream",
          "text": [
            "starts at:0, ends at:1, pattern:a\n",
            "starts at:1, ends at:1, pattern:\n",
            "starts at:2, ends at:3, pattern:a\n",
            "starts at:3, ends at:4, pattern:a\n",
            "starts at:4, ends at:4, pattern:\n",
            "starts at:5, ends at:6, pattern:a\n",
            "starts at:6, ends at:6, pattern:\n",
            "starts at:7, ends at:8, pattern:a\n",
            "starts at:8, ends at:8, pattern:\n",
            "\t\n",
            "the total no of matches is: 9\n"
          ],
          "name": "stdout"
        }
      ]
    },
    {
      "cell_type": "markdown",
      "metadata": {
        "id": "PYDh6Sr95F0S"
      },
      "source": [
        "#**re.match()**"
      ]
    },
    {
      "cell_type": "code",
      "metadata": {
        "colab": {
          "base_uri": "https://localhost:8080/"
        },
        "id": "b015xay32S5j",
        "outputId": "c91762bb-5bc8-4a28-d83d-47d2d5672b9b"
      },
      "source": [
        "# re.amtch() is Used to match the given pattern at the begining of the string\n",
        "\n",
        "import re\n",
        "pattern=input('Enter pattern\\t')\n",
        "m=re.match(pattern, 'bcdef')\n",
        "print(type(m))\n",
        "print('\\t')\n",
        "if m==None:\n",
        "  print('Match is not avilable at the beginning of the string')\n",
        "else:\n",
        "  print('Match is at:{}, ends at:{}, pattern:{}'.format(m.start(),m.end(),m.group()))"
      ],
      "execution_count": 18,
      "outputs": [
        {
          "output_type": "stream",
          "text": [
            "Enter pattern\tcd\n",
            "<class 'NoneType'>\n",
            "\t\n",
            "Match is not avilable at the beginning of the string\n"
          ],
          "name": "stdout"
        }
      ]
    },
    {
      "cell_type": "markdown",
      "metadata": {
        "id": "w4b94NjR9a3f"
      },
      "source": [
        "# **re.search()**"
      ]
    },
    {
      "cell_type": "code",
      "metadata": {
        "colab": {
          "base_uri": "https://localhost:8080/"
        },
        "id": "PXz0tjt17tUF",
        "outputId": "3a64634f-a677-4939-cf27-862556d1832c"
      },
      "source": [
        "# re.search is used to match the given pattern in the string and prints only the first occured pattern.\n",
        "\n",
        "import re\n",
        "pattern=input('Enter pattern\\t')\n",
        "m=re.search(pattern, 'abcdbcef')\n",
        "print(type(m))\n",
        "print('\\t')\n",
        "if m==None:\n",
        "  print('Match is not avilable at the beginning of the string')\n",
        "else:\n",
        "  print('Match is at:{}, ends at:{}, pattern:{}'.format(m.start(),m.end(),m.group()))\n",
        "\n"
      ],
      "execution_count": 19,
      "outputs": [
        {
          "output_type": "stream",
          "text": [
            "Enter pattern\tcd\n",
            "<class 're.Match'>\n",
            "\t\n",
            "Match is at:2, ends at:4, pattern:cd\n"
          ],
          "name": "stdout"
        }
      ]
    },
    {
      "cell_type": "markdown",
      "metadata": {
        "id": "RU7jyT_A7mrC"
      },
      "source": [
        "#**re.search()  vs re.match()**"
      ]
    },
    {
      "cell_type": "code",
      "metadata": {
        "colab": {
          "base_uri": "https://localhost:8080/"
        },
        "id": "-xq2iQa78EFv",
        "outputId": "65d8099f-a717-4138-aeb7-c9f29c881f48"
      },
      "source": [
        "# Comparing both methods\n",
        "\n",
        "target='Lions and tigers are among the most ferocious animals'\n",
        "pattern='tigers'\n",
        "# ---> re.match()\n",
        "m=re.match(pattern,target)\n",
        "if m == None:\n",
        "  print('Match is not available --->re.match() method')\n",
        "else:\n",
        "  print('Pattern is found in the Target --->re.match() method')\n",
        "\n",
        "# ---> re.search()\n",
        "print('\\t')\n",
        "m=re.search(pattern,target)\n",
        "if m == None:\n",
        "  print('Match is not available --->re.search() method')\n",
        "else:\n",
        "  print('Pattern is found in the Target --->re.search() method')"
      ],
      "execution_count": 20,
      "outputs": [
        {
          "output_type": "stream",
          "text": [
            "Match is not available --->re.match() method\n",
            "\t\n",
            "Pattern is found in the Target --->re.search() method\n"
          ],
          "name": "stdout"
        }
      ]
    },
    {
      "cell_type": "markdown",
      "metadata": {
        "id": "jJz4Vq5QAMK0"
      },
      "source": [
        "# **re.findall()**"
      ]
    },
    {
      "cell_type": "code",
      "metadata": {
        "colab": {
          "base_uri": "https://localhost:8080/"
        },
        "id": "Mjo-3296AX7j",
        "outputId": "d0f7f165-84bc-406d-bf20-7c884fcab0c5"
      },
      "source": [
        "#  Find all matches and returns a List\n",
        "\n",
        "lst=re.findall('[0-9]','a@12bcd#4fd')\n",
        "\n",
        "print(lst)"
      ],
      "execution_count": 21,
      "outputs": [
        {
          "output_type": "stream",
          "text": [
            "['1', '2', '4']\n"
          ],
          "name": "stdout"
        }
      ]
    },
    {
      "cell_type": "markdown",
      "metadata": {
        "id": "QfswJqNZHp5S"
      },
      "source": [
        "#**re.findall() vs re.finditer()**"
      ]
    },
    {
      "cell_type": "code",
      "metadata": {
        "colab": {
          "base_uri": "https://localhost:8080/"
        },
        "id": "_cy_zo1MHlmg",
        "outputId": "aa162f86-14ff-4fc3-e5de-463bd3274a20"
      },
      "source": [
        "# finditer is a callable type so we need to iterate to get the matches. \n",
        "# but findall will directly returns  the matches in a list\n",
        "\n",
        "target='a@12bcd#4fd'\n",
        "\n",
        "# ---> re.findall()\n",
        "lst=re.findall('[0-9]',target)\n",
        "print('Using re.findall() --->',lst)\n",
        "print('\\t')\n",
        "\n",
        "#---> re.finditer()\n",
        "match= re.finditer('[0-9]',target)\n",
        "print('Using re.findall()')\n",
        "for i in match:\n",
        "  print(i.group())"
      ],
      "execution_count": 22,
      "outputs": [
        {
          "output_type": "stream",
          "text": [
            "Using re.findall() ---> ['1', '2', '4']\n",
            "\t\n",
            "Using re.findall()\n",
            "1\n",
            "2\n",
            "4\n"
          ],
          "name": "stdout"
        }
      ]
    },
    {
      "cell_type": "code",
      "metadata": {
        "colab": {
          "base_uri": "https://localhost:8080/"
        },
        "id": "XKKukXeyJouO",
        "outputId": "11c928cb-dbd6-4d6b-f908-126dd9a7dc68"
      },
      "source": [
        "# printing the unique values (remove duplicates)\n",
        "\n",
        "target='abcabcbcaabclmzxyfghdjjd'\n",
        "match=re.findall('[a-zA-Z0-9_.]',target)\n",
        "print(set(match))"
      ],
      "execution_count": 23,
      "outputs": [
        {
          "output_type": "stream",
          "text": [
            "{'x', 'a', 'd', 'c', 'l', 'm', 'h', 'b', 'y', 'f', 'g', 'z', 'j'}\n"
          ],
          "name": "stdout"
        }
      ]
    },
    {
      "cell_type": "markdown",
      "metadata": {
        "id": "puUzYmMHOe22"
      },
      "source": [
        "#**Search and Replace**"
      ]
    },
    {
      "cell_type": "code",
      "metadata": {
        "colab": {
          "base_uri": "https://localhost:8080/"
        },
        "id": "JiEydEgdLuLE",
        "outputId": "03253043-a887-416a-aef3-278b542827b3"
      },
      "source": [
        "# It will search the pattern and replace at that pattern\n",
        "\n",
        "#re.sb(pattern,replacement,targetstring)\n",
        "\n",
        "m=re.sub('\\d','#','a667bc67%%kj*87kj')  # \\d matches only digits\n",
        "print(m)"
      ],
      "execution_count": 24,
      "outputs": [
        {
          "output_type": "stream",
          "text": [
            "a###bc##%%kj*##kj\n"
          ],
          "name": "stdout"
        }
      ]
    },
    {
      "cell_type": "code",
      "metadata": {
        "colab": {
          "base_uri": "https://localhost:8080/"
        },
        "id": "EnHSKmUmPdNU",
        "outputId": "b1e3b917-2e48-4555-fa3b-46be260f142a"
      },
      "source": [
        "phone='1234-5678-9012 # This is a phone number'\n",
        "print('Phone Number is ',phone)\n",
        "\n",
        "number=re.sub('#.*$','%',phone)   # (#.*$')--->starts with # and matches with any character except new line(.* --> means 0 or more *) and $ means from the ending of the line. \n",
        "print('Phone Number is ',number)\n",
        "\n",
        "phone_number=re.sub('\\D', '' , phone)      #\\D ---> Matches will all Characters except DIGITS. \n",
        "print('Phone Number is ', phone_number)"
      ],
      "execution_count": 28,
      "outputs": [
        {
          "output_type": "stream",
          "text": [
            "Phone Number is  1234-5678-9012 # This is a phone number\n",
            "Phone Number is  1234-5678-9012 %\n",
            "Phone Number is  123456789012\n"
          ],
          "name": "stdout"
        }
      ]
    },
    {
      "cell_type": "markdown",
      "metadata": {
        "id": "U63rUrZg2UxG"
      },
      "source": [
        "# **re.split()**"
      ]
    },
    {
      "cell_type": "markdown",
      "metadata": {
        "id": "_F2AUdoi3jc2"
      },
      "source": [
        "Split method is used to split the words based on the pattern"
      ]
    },
    {
      "cell_type": "code",
      "metadata": {
        "colab": {
          "base_uri": "https://localhost:8080/"
        },
        "id": "LTqw1cmCyKbG",
        "outputId": "77126a50-0c08-49fb-c1a5-760d553e8e92"
      },
      "source": [
        "split=re.split('-','Lions-And-Tigers-Are-Dangerous')\n",
        "print(split)"
      ],
      "execution_count": 29,
      "outputs": [
        {
          "output_type": "stream",
          "text": [
            "['Lions', 'And', 'Tigers', 'Are', 'Dangerous']\n"
          ],
          "name": "stdout"
        }
      ]
    },
    {
      "cell_type": "code",
      "metadata": {
        "colab": {
          "base_uri": "https://localhost:8080/"
        },
        "id": "iTjtoioc39kR",
        "outputId": "b7fc1c68-daad-402a-8190-2913448b7ac5"
      },
      "source": [
        "split=re.split('\\W','abcdefg@gmail.com') # \\W ---> matches all except alphanumeric \n",
        "print(split)"
      ],
      "execution_count": 31,
      "outputs": [
        {
          "output_type": "stream",
          "text": [
            "['abcdefg', 'gmail', 'com']\n"
          ],
          "name": "stdout"
        }
      ]
    },
    {
      "cell_type": "code",
      "metadata": {
        "colab": {
          "base_uri": "https://localhost:8080/"
        },
        "id": "jQbe_BpQ3f44",
        "outputId": "5869fcbd-e4d7-4962-985a-5f3554e27ed4"
      },
      "source": [
        "split=re.split('.','www.facebook.com') #Matches with everything except New Line.\n",
        "print(split)"
      ],
      "execution_count": 30,
      "outputs": [
        {
          "output_type": "stream",
          "text": [
            "['', '', '', '', '', '', '', '', '', '', '', '', '', '', '', '', '']\n"
          ],
          "name": "stdout"
        }
      ]
    },
    {
      "cell_type": "code",
      "metadata": {
        "colab": {
          "base_uri": "https://localhost:8080/"
        },
        "id": "l0iOjR4e5eyd",
        "outputId": "1475c198-6533-4166-ede9-d1d109d6419c"
      },
      "source": [
        "split=re.split('[.]','www.facebook.com') \n",
        "print(split)"
      ],
      "execution_count": 32,
      "outputs": [
        {
          "output_type": "stream",
          "text": [
            "['www', 'facebook', 'com']\n"
          ],
          "name": "stdout"
        }
      ]
    },
    {
      "cell_type": "code",
      "metadata": {
        "id": "1KaeaLJu5kMl"
      },
      "source": [
        ""
      ],
      "execution_count": null,
      "outputs": []
    }
  ]
}